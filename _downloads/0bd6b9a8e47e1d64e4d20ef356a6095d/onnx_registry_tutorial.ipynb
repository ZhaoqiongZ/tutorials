{
 "cells": [
  {
   "cell_type": "code",
   "execution_count": null,
   "metadata": {
    "collapsed": false
   },
   "outputs": [],
   "source": [
    "# For tips on running notebooks in Google Colab, see\n",
    "# https://pytorch.org/tutorials/beginner/colab\n",
    "%matplotlib inline"
   ]
  },
  {
   "cell_type": "markdown",
   "metadata": {},
   "source": [
    "[Introduction to ONNX](intro_onnx.html) \\|\\| [Exporting a PyTorch model\n",
    "to ONNX](export_simple_model_to_onnx_tutorial.html) \\|\\| **Extending the\n",
    "ONNX Registry**\n",
    "\n",
    "Extending the ONNX Registry\n",
    "===========================\n",
    "\n",
    "**Authors:** Ti-Tai Wang (<titaiwang@microsoft.com>)\n"
   ]
  },
  {
   "cell_type": "markdown",
   "metadata": {},
   "source": [
    "Overview\n",
    "========\n",
    "\n",
    "This tutorial is an introduction to ONNX registry, which empowers users\n",
    "to implement new ONNX operators or even replace existing operators with\n",
    "a new implementation.\n",
    "\n",
    "During the model export to ONNX, the PyTorch model is lowered to an\n",
    "intermediate representation composed of [ATen\n",
    "operators](https://pytorch.org/docs/stable/torch.compiler_ir.html).\n",
    "While ATen operators are maintained by PyTorch core team, it is the\n",
    "responsibility of the ONNX exporter team to independently implement each\n",
    "of these operators to ONNX through [ONNX\n",
    "Script](https://onnxscript.ai/). The users can also replace the behavior\n",
    "implemented by the ONNX exporter team with their own implementation to\n",
    "fix bugs or improve performance for a specific ONNX runtime.\n",
    "\n",
    "The ONNX Registry manages the mapping between PyTorch operators and the\n",
    "ONNX operators counterparts and provides APIs to extend the registry.\n",
    "\n",
    "In this tutorial, we will cover three scenarios that require extending\n",
    "the ONNX registry with custom operators:\n",
    "\n",
    "-   Custom operators with existing ONNX Runtime support\n",
    "-   Custom operators without ONNX Runtime support\n"
   ]
  },
  {
   "cell_type": "code",
   "execution_count": null,
   "metadata": {
    "collapsed": false
   },
   "outputs": [],
   "source": [
    "import torch\n",
    "import onnxruntime\n",
    "import onnxscript\n",
    "from onnxscript import opset18  # opset 18 is the latest (and only) supported version for now"
   ]
  },
  {
   "cell_type": "markdown",
   "metadata": {},
   "source": [
    "Custom operators with existing ONNX Runtime support\n",
    "===================================================\n",
    "\n",
    "In this case, the user creates a model with standard PyTorch operators,\n",
    "but the ONNX runtime (e.g. Microsoft\\'s ONNX Runtime) can provide a\n",
    "custom implementation for that kernel, effectively replacing the\n",
    "existing implementation in the ONNX Registry. Another use case is when\n",
    "the user wants to use a custom implementation of an existing ONNX\n",
    "operator to fix a bug or improve performance of a specific operator. To\n",
    "achieve this, we only need to register the new implementation with the\n",
    "existing ATen fully qualified name.\n",
    "\n",
    "In the following example, we use the `com.microsoft.Gelu` from ONNX\n",
    "Runtime, which is not the same `Gelu` from ONNX spec. Thus, we register\n",
    "the Gelu with the namespace `com.microsoft` and operator name `Gelu`.\n",
    "\n",
    "Before we begin, let\\'s check whether `aten::gelu.default` is really\n",
    "supported by the ONNX registry.\n"
   ]
  },
  {
   "cell_type": "code",
   "execution_count": null,
   "metadata": {
    "collapsed": false
   },
   "outputs": [],
   "source": [
    "onnx_registry = torch.onnx.OnnxRegistry()\n",
    "print(f\"aten::gelu.default is supported by ONNX registry: \\\n",
    "    {onnx_registry.is_registered_op(namespace='aten', op_name='gelu', overload='default')}\")"
   ]
  },
  {
   "cell_type": "markdown",
   "metadata": {},
   "source": [
    "In our example, `aten::gelu.default` operator is supported by the ONNX\n",
    "registry, so `onnx_registry.is_registered_op`{.interpreted-text\n",
    "role=\"meth\"} returns `True`.\n"
   ]
  },
  {
   "cell_type": "code",
   "execution_count": null,
   "metadata": {
    "collapsed": false
   },
   "outputs": [],
   "source": [
    "class CustomGelu(torch.nn.Module):\n",
    "    def forward(self, input_x):\n",
    "        return torch.ops.aten.gelu(input_x)\n",
    "\n",
    "# com.microsoft is an official ONNX Runtime namspace\n",
    "custom_ort = onnxscript.values.Opset(domain=\"com.microsoft\", version=1)\n",
    "\n",
    "# NOTE: The function signature must match the signature of the unsupported ATen operator.\n",
    "# https://github.com/pytorch/pytorch/blob/main/aten/src/ATen/native/native_functions.yaml\n",
    "# NOTE: All attributes must be annotated with type hints.\n",
    "@onnxscript.script(custom_ort)\n",
    "def custom_aten_gelu(input_x, approximate: str = \"none\"):\n",
    "    # We know com.microsoft::Gelu is supported by ONNX Runtime\n",
    "    # It's only not supported by ONNX\n",
    "    return custom_ort.Gelu(input_x)\n",
    "\n",
    "\n",
    "onnx_registry = torch.onnx.OnnxRegistry()\n",
    "onnx_registry.register_op(\n",
    "    namespace=\"aten\", op_name=\"gelu\", overload=\"default\", function=custom_aten_gelu)\n",
    "export_options = torch.onnx.ExportOptions(onnx_registry=onnx_registry)\n",
    "\n",
    "aten_gelu_model = CustomGelu()\n",
    "input_gelu_x = torch.randn(3, 3)\n",
    "\n",
    "onnx_program = torch.onnx.dynamo_export(\n",
    "    aten_gelu_model, input_gelu_x, export_options=export_options\n",
    "    )"
   ]
  },
  {
   "cell_type": "markdown",
   "metadata": {},
   "source": [
    "Let\\'s inspect the model and verify the model uses op\\_type `Gelu` from\n",
    "namespace `com.microsoft`.\n",
    "\n",
    "<div style=\"background-color: #54c7ec; color: #fff; font-weight: 700; padding-left: 10px; padding-top: 5px; padding-bottom: 5px\"><strong>NOTE:</strong></div>\n",
    "\n",
    "<div style=\"background-color: #f3f4f7; padding-left: 10px; padding-top: 10px; padding-bottom: 10px; padding-right: 10px\">\n",
    "\n",
    "<p><code>custom_aten_gelu</code> does not exist in the graph becausefunctions with fewer than three operators are inlined automatically.</p>\n",
    "\n",
    "</div>\n",
    "\n"
   ]
  },
  {
   "cell_type": "code",
   "execution_count": null,
   "metadata": {
    "collapsed": false
   },
   "outputs": [],
   "source": [
    "# graph node domain is the custom domain we registered\n",
    "assert onnx_program.model_proto.graph.node[0].domain == \"com.microsoft\"\n",
    "# graph node name is the function name\n",
    "assert onnx_program.model_proto.graph.node[0].op_type == \"Gelu\""
   ]
  },
  {
   "cell_type": "markdown",
   "metadata": {},
   "source": [
    "The following diagram shows `custom_aten_gelu_model` ONNX graph using\n",
    "Netron, we can see the `Gelu` node from module `com.microsoft` used in\n",
    "the function:\n",
    "\n",
    "![image](https://pytorch.org/tutorials/_static/img/onnx/custom_aten_gelu_model.png)\n",
    "\n",
    "That is all we need to do. As an additional step, we can use ONNX\n",
    "Runtime to run the model, and compare the results with PyTorch.\n"
   ]
  },
  {
   "cell_type": "code",
   "execution_count": null,
   "metadata": {
    "collapsed": false
   },
   "outputs": [],
   "source": [
    "onnx_program.save(\"./custom_gelu_model.onnx\")\n",
    "ort_session = onnxruntime.InferenceSession(\n",
    "    \"./custom_gelu_model.onnx\", providers=['CPUExecutionProvider']\n",
    "    )\n",
    "\n",
    "def to_numpy(tensor):\n",
    "    return tensor.detach().cpu().numpy() if tensor.requires_grad else tensor.cpu().numpy()\n",
    "\n",
    "onnx_input = [input_gelu_x]\n",
    "onnxruntime_input = {k.name: to_numpy(v) for k, v in zip(ort_session.get_inputs(), onnx_input)}\n",
    "onnxruntime_outputs = ort_session.run(None, onnxruntime_input)[0]\n",
    "\n",
    "torch_outputs = aten_gelu_model(input_gelu_x)\n",
    "\n",
    "assert len(torch_outputs) == len(onnxruntime_outputs)\n",
    "for torch_output, onnxruntime_output in zip(torch_outputs, onnxruntime_outputs):\n",
    "    torch.testing.assert_close(torch_output, torch.tensor(onnxruntime_output))"
   ]
  },
  {
   "cell_type": "markdown",
   "metadata": {},
   "source": [
    "Custom operators without ONNX Runtime support\n",
    "=============================================\n",
    "\n",
    "In this case, the operator is not supported by any ONNX runtime, but we\n",
    "would like to use it as custom operator in ONNX graph. Therefore, we\n",
    "need to implement the operator in three places:\n",
    "\n",
    "1.  PyTorch FX graph\n",
    "2.  ONNX Registry\n",
    "3.  ONNX Runtime\n",
    "\n",
    "In the following example, we would like to use a custom operator that\n",
    "takes one tensor input, and returns one output. The operator adds the\n",
    "input to itself, and returns the rounded result.\n",
    "\n",
    "Custom Ops Registration in PyTorch FX Graph (Beta)\n",
    "--------------------------------------------------\n",
    "\n",
    "Firstly, we need to implement the operator in PyTorch FX graph. This can\n",
    "be done by using `torch._custom_op`.\n"
   ]
  },
  {
   "cell_type": "code",
   "execution_count": null,
   "metadata": {
    "collapsed": false
   },
   "outputs": [],
   "source": [
    "# NOTE: This is a beta feature in PyTorch, and is subject to change.\n",
    "from torch._custom_op import impl as custom_op\n",
    "\n",
    "@custom_op.custom_op(\"mylibrary::addandround_op\")\n",
    "def addandround_op(tensor_x: torch.Tensor) -> torch.Tensor:\n",
    "    ...\n",
    "\n",
    "@addandround_op.impl_abstract()\n",
    "def addandround_op_impl_abstract(tensor_x):\n",
    "    return torch.empty_like(tensor_x)\n",
    "\n",
    "@addandround_op.impl(\"cpu\")\n",
    "def addandround_op_impl(tensor_x):\n",
    "    return torch.round(tensor_x + tensor_x)  # add x to itself, and round the result\n",
    "\n",
    "torch._dynamo.allow_in_graph(addandround_op)\n",
    "\n",
    "class CustomFoo(torch.nn.Module):\n",
    "    def forward(self, tensor_x):\n",
    "        return addandround_op(tensor_x)\n",
    "\n",
    "input_addandround_x = torch.randn(3)\n",
    "custom_addandround_model = CustomFoo()"
   ]
  },
  {
   "cell_type": "markdown",
   "metadata": {},
   "source": [
    "Custom Ops Registration in ONNX Registry\n",
    "========================================\n",
    "\n",
    "For the step 2 and 3, we need to implement the operator in ONNX\n",
    "registry. In this example, we will implement the operator in ONNX\n",
    "registry with the namespace `test.customop` and operator name\n",
    "`CustomOpOne`, and `CustomOpTwo`. These two ops are registered and built\n",
    "in\n",
    "[cpu\\_ops.cc](https://github.com/microsoft/onnxruntime/blob/main/onnxruntime/test/testdata/custom_op_library/cpu/cpu_ops.cc).\n"
   ]
  },
  {
   "cell_type": "code",
   "execution_count": null,
   "metadata": {
    "collapsed": false
   },
   "outputs": [],
   "source": [
    "custom_opset = onnxscript.values.Opset(domain=\"test.customop\", version=1)\n",
    "\n",
    "# NOTE: The function signature must match the signature of the unsupported ATen operator.\n",
    "# https://github.com/pytorch/pytorch/blob/main/aten/src/ATen/native/native_functions.yaml\n",
    "# NOTE: All attributes must be annotated with type hints.\n",
    "@onnxscript.script(custom_opset)\n",
    "def custom_addandround(input_x):\n",
    "    # The same as opset18.Add(x, x)\n",
    "    add_x = custom_opset.CustomOpOne(input_x, input_x)\n",
    "    # The same as opset18.Round(x, x)\n",
    "    round_x = custom_opset.CustomOpTwo(add_x)\n",
    "    # Cast to FLOAT to match the ONNX type\n",
    "    return opset18.Cast(round_x, to=1)\n",
    "\n",
    "\n",
    "onnx_registry = torch.onnx.OnnxRegistry()\n",
    "onnx_registry.register_op(\n",
    "    namespace=\"mylibrary\", op_name=\"addandround_op\", overload=\"default\", function=custom_addandround\n",
    "    )\n",
    "\n",
    "export_options = torch.onnx.ExportOptions(onnx_registry=onnx_registry)\n",
    "onnx_program = torch.onnx.dynamo_export(\n",
    "    custom_addandround_model, input_addandround_x, export_options=export_options\n",
    "    )\n",
    "onnx_program.save(\"./custom_addandround_model.onnx\")"
   ]
  },
  {
   "cell_type": "markdown",
   "metadata": {},
   "source": [
    "The `onnx_program` exposes the exported model as protobuf through\n",
    "`onnx_program.model_proto`. The graph has one graph nodes for\n",
    "`custom_addandround`, and inside `custom_addandround`, there are two\n",
    "function nodes, one for each operator.\n"
   ]
  },
  {
   "cell_type": "code",
   "execution_count": null,
   "metadata": {
    "collapsed": false
   },
   "outputs": [],
   "source": [
    "assert onnx_program.model_proto.graph.node[0].domain == \"test.customop\"\n",
    "assert onnx_program.model_proto.graph.node[0].op_type == \"CustomOpOne\"\n",
    "assert onnx_program.model_proto.graph.node[1].domain == \"test.customop\"\n",
    "assert onnx_program.model_proto.graph.node[1].op_type == \"CustomOpTwo\""
   ]
  },
  {
   "cell_type": "markdown",
   "metadata": {},
   "source": [
    "This is how `custom_addandround_model` ONNX graph looks using Netron. We\n",
    "can see the two custom operators we used in the function (`CustomOpOne`,\n",
    "and `CustomOpTwo`), and they are from module `test.customop`:\n",
    "\n",
    "![image](https://pytorch.org/tutorials/_static/img/onnx/custom_addandround.png)\n",
    "\n",
    "Custom Ops Registration in ONNX Runtime\n",
    "=======================================\n",
    "\n",
    "To link your custom op library to ONNX Runtime, you need to compile your\n",
    "C++ code into a shared library and link it to ONNX Runtime. Follow the\n",
    "instructions below:\n",
    "\n",
    "1.  Implement your custom op in C++ by following [ONNX Runtime\n",
    "    instructions](%60https://github.com/microsoft/onnxruntime/blob/gh-pages/docs/reference/operators/add-custom-op.md).\n",
    "2.  Download ONNX Runtime source distribution from [ONNX Runtime\n",
    "    releases](https://github.com/microsoft/onnxruntime/releases).\n",
    "3.  Compile and link your custom op library to ONNX Runtime, for\n",
    "    example:\n",
    "\n",
    "``` {.bash}\n",
    "$ gcc -shared -o libcustom_op_library.so custom_op_library.cc -L /path/to/downloaded/ort/lib/ -lonnxruntime -fPIC\n",
    "```\n",
    "\n",
    "4.  Run the model with ONNX Runtime Python API and compare the results\n",
    "    with PyTorch.\n",
    "\n",
    "``` {.python}\n",
    "ort_session_options = onnxruntime.SessionOptions()\n",
    "\n",
    "# NOTE: Link the custom op library to ONNX Runtime and replace the path\n",
    "# with the path to your custom op library\n",
    "ort_session_options.register_custom_ops_library(\n",
    "    \"/path/to/libcustom_op_library.so\"\n",
    ")\n",
    "ort_session = onnxruntime.InferenceSession(\n",
    "    \"./custom_addandround_model.onnx\", providers=['CPUExecutionProvider'], sess_options=ort_session_options)\n",
    "\n",
    "def to_numpy(tensor):\n",
    "    return tensor.detach().cpu().numpy() if tensor.requires_grad else tensor.cpu().numpy()\n",
    "\n",
    "onnx_input = onnx_program.adapt_torch_inputs_to_onnx(input_addandround_x)\n",
    "onnxruntime_input = {k.name: to_numpy(v) for k, v in zip(ort_session.get_inputs(), onnx_input)}\n",
    "onnxruntime_outputs = ort_session.run(None, onnxruntime_input)\n",
    "\n",
    "torch_outputs = custom_addandround_model(input_addandround_x)\n",
    "torch_outputs = onnx_program.adapt_torch_outputs_to_onnx(torch_outputs)\n",
    "\n",
    "assert len(torch_outputs) == len(onnxruntime_outputs)\n",
    "for torch_output, onnxruntime_output in zip(torch_outputs, onnxruntime_outputs):\n",
    "    torch.testing.assert_close(torch_output, torch.tensor(onnxruntime_output))\n",
    "```\n",
    "\n",
    "Conclusion\n",
    "----------\n",
    "\n",
    "Congratulations! In this tutorial, we explored the\n",
    "`ONNXRegistry`{.interpreted-text role=\"class\"} API and discovered how to\n",
    "create custom implementations for unsupported or existing ATen operators\n",
    "using ONNX Script. Finally, we leveraged ONNX Runtime to execute the\n",
    "model and compare the results with PyTorch, providing us with a\n",
    "comprehensive understanding of handling unsupported operators in the\n",
    "ONNX ecosystem.\n",
    "\n",
    "Further reading\n",
    "---------------\n",
    "\n",
    "The list below refers to tutorials that ranges from basic examples to\n",
    "advanced scenarios, not necessarily in the order they are listed. Feel\n",
    "free to jump directly to specific topics of your interest or sit tight\n",
    "and have fun going through all of them to learn all there is about the\n",
    "ONNX exporter.\n",
    "\n",
    "::: {.toctree hidden=\"\"}\n",
    ":::\n"
   ]
  }
 ],
 "metadata": {
  "kernelspec": {
   "display_name": "Python 3",
   "language": "python",
   "name": "python3"
  },
  "language_info": {
   "codemirror_mode": {
    "name": "ipython",
    "version": 3
   },
   "file_extension": ".py",
   "mimetype": "text/x-python",
   "name": "python",
   "nbconvert_exporter": "python",
   "pygments_lexer": "ipython3",
   "version": "3.10.12"
  }
 },
 "nbformat": 4,
 "nbformat_minor": 0
}
